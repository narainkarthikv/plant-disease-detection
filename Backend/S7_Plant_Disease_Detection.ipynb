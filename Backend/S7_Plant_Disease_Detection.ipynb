{
  "nbformat": 4,
  "nbformat_minor": 0,
  "metadata": {
    "colab": {
      "provenance": [],
      "collapsed_sections": [
        "4YE7GS-mQk4G",
        "Llp0PPBDO4mU"
      ],
      "gpuType": "T4"
    },
    "kernelspec": {
      "name": "python3",
      "display_name": "Python 3"
    },
    "language_info": {
      "name": "python"
    },
    "accelerator": "GPU"
  },
  "cells": [
    {
      "cell_type": "code",
      "execution_count": null,
      "metadata": {
        "id": "y8oWn4HLrcXg",
        "colab": {
          "base_uri": "https://localhost:8080/"
        },
        "outputId": "5e291f4a-9670-4aab-e4c5-c6efd8c224a8"
      },
      "outputs": [
        {
          "output_type": "stream",
          "name": "stdout",
          "text": [
            "mkdir: cannot create directory ‘kaggle’: File exists\n"
          ]
        }
      ],
      "source": [
        "!mkdir kaggle\n",
        "!cp kaggle.json ~/.kaggle/\n",
        "!chmod 600 ~/.kaggle/kaggle.json\n"
      ]
    },
    {
      "cell_type": "code",
      "source": [
        "import kaggle\n",
        "kaggle.api.dataset_download_files('alyeko/potato-tomato-dataset',path='./',unzip=True)"
      ],
      "metadata": {
        "id": "rODenk-SuMqi"
      },
      "execution_count": null,
      "outputs": []
    },
    {
      "cell_type": "code",
      "source": [
        "import kaggle\n",
        "kaggle.api.dataset_download_files('vipoooool/new-plant-diseases-dataset',path='./',unzip=True)"
      ],
      "metadata": {
        "id": "GcMoOZYKajiN"
      },
      "execution_count": null,
      "outputs": []
    },
    {
      "cell_type": "markdown",
      "source": [
        "\n",
        "# WORKING MODEL IN RESNET"
      ],
      "metadata": {
        "id": "4r1HnXmtLiGG"
      }
    },
    {
      "cell_type": "code",
      "source": [
        "import os\n",
        "import torch\n",
        "import torch.nn as nn\n",
        "import torch.optim as optim\n",
        "import torchvision.transforms as transforms\n",
        "from torch.utils.data import DataLoader\n",
        "from torchvision.datasets import ImageFolder\n",
        "from torchvision.models import resnet18\n",
        "from torchsummary import summary\n",
        "import matplotlib.pyplot as plt\n",
        "\n",
        "# Set up GPU runtime in Google Colab\n",
        "device = torch.device('cuda' if torch.cuda.is_available() else 'cpu')\n",
        "\n",
        "# Define data transformations\n",
        "transform = transforms.Compose([\n",
        "    transforms.Resize((224, 224)),\n",
        "    transforms.ToTensor(),\n",
        "    transforms.Normalize(mean=[0.485, 0.456, 0.406], std=[0.229, 0.224, 0.225]),\n",
        "])\n",
        "\n",
        "# Load the dataset\n",
        "train_dataset = ImageFolder('/content/idata/Image Dataset/ImageDataset/train', transform=transform)\n",
        "train_loader = DataLoader(train_dataset, batch_size=32, shuffle=True, num_workers=4)\n",
        "\n",
        "# Define the ResNet model\n",
        "model = resnet18(pretrained=True)\n",
        "num_classes = len(train_dataset.classes)\n",
        "model.fc = nn.Linear(model.fc.in_features, num_classes)\n",
        "model.to(device)\n",
        "\n",
        "# Define loss function and optimizer\n",
        "criterion = nn.CrossEntropyLoss()\n",
        "optimizer = optim.Adam(model.parameters(), lr=0.001)\n",
        "\n",
        "# Training loop\n",
        "num_epochs = 10\n",
        "for epoch in range(num_epochs):\n",
        "    model.train()\n",
        "    running_loss = 0.0\n",
        "    for images, labels in train_loader:\n",
        "        images, labels = images.to(device), labels.to(device)\n",
        "        optimizer.zero_grad()\n",
        "        outputs = model(images)\n",
        "        loss = criterion(outputs, labels)\n",
        "        loss.backward()\n",
        "        optimizer.step()\n",
        "        running_loss += loss.item()\n",
        "\n",
        "    print(f'Epoch [{epoch+1}/{num_epochs}], Loss: {running_loss:.4f}')\n",
        "\n",
        "print('Training finished.')\n",
        "\n",
        "# Save the trained model\n",
        "torch.save(model.state_dict(), 'plant_disease_model.pth')\n"
      ],
      "metadata": {
        "colab": {
          "base_uri": "https://localhost:8080/"
        },
        "id": "s7U764gvTO3l",
        "outputId": "fdc8277e-c718-4078-f9ff-dafd03ec8e66"
      },
      "execution_count": null,
      "outputs": [
        {
          "output_type": "stream",
          "name": "stderr",
          "text": [
            "/usr/local/lib/python3.10/dist-packages/torch/utils/data/dataloader.py:560: UserWarning: This DataLoader will create 4 worker processes in total. Our suggested max number of worker in current system is 2, which is smaller than what this DataLoader is going to create. Please be aware that excessive worker creation might get DataLoader running slow or even freeze, lower the worker number to avoid potential slowness/freeze if necessary.\n",
            "  warnings.warn(_create_warning_msg(\n",
            "/usr/local/lib/python3.10/dist-packages/torchvision/models/_utils.py:208: UserWarning: The parameter 'pretrained' is deprecated since 0.13 and may be removed in the future, please use 'weights' instead.\n",
            "  warnings.warn(\n",
            "/usr/local/lib/python3.10/dist-packages/torchvision/models/_utils.py:223: UserWarning: Arguments other than a weight enum or `None` for 'weights' are deprecated since 0.13 and may be removed in the future. The current behavior is equivalent to passing `weights=ResNet18_Weights.IMAGENET1K_V1`. You can also use `weights=ResNet18_Weights.DEFAULT` to get the most up-to-date weights.\n",
            "  warnings.warn(msg)\n",
            "Downloading: \"https://download.pytorch.org/models/resnet18-f37072fd.pth\" to /root/.cache/torch/hub/checkpoints/resnet18-f37072fd.pth\n",
            "100%|██████████| 44.7M/44.7M [00:00<00:00, 205MB/s]\n"
          ]
        },
        {
          "output_type": "stream",
          "name": "stdout",
          "text": [
            "Epoch [1/10], Loss: 77.4447\n",
            "Epoch [2/10], Loss: 31.7412\n",
            "Epoch [3/10], Loss: 22.6740\n",
            "Epoch [4/10], Loss: 17.4755\n",
            "Epoch [5/10], Loss: 18.3454\n",
            "Epoch [6/10], Loss: 15.0766\n",
            "Epoch [7/10], Loss: 11.2729\n",
            "Epoch [8/10], Loss: 15.1669\n",
            "Epoch [9/10], Loss: 5.2890\n",
            "Epoch [10/10], Loss: 8.5396\n",
            "Training finished.\n"
          ]
        }
      ]
    },
    {
      "cell_type": "code",
      "source": [
        "import os\n",
        "import torch\n",
        "import torch.nn as nn\n",
        "import torchvision.transforms as transforms\n",
        "from torchvision.models import resnet18\n",
        "from PIL import Image\n",
        "\n",
        "# Set up GPU runtime in Google Colab\n",
        "device = torch.device('cuda' if torch.cuda.is_available() else 'cpu')\n",
        "\n",
        "# Define data transformations for testing\n",
        "transform = transforms.Compose([\n",
        "    transforms.Resize((224, 224)),\n",
        "    transforms.ToTensor(),\n",
        "    transforms.Normalize(mean=[0.485, 0.456, 0.406], std=[0.229, 0.224, 0.225]),\n",
        "])\n",
        "\n",
        "# Load the saved model\n",
        "model = resnet18(pretrained=True)\n",
        "num_classes = 6  # Change this to the number of classes in your dataset\n",
        "model.fc = nn.Linear(model.fc.in_features, num_classes)\n",
        "model.to(device)\n",
        "model.load_state_dict(torch.load('/content/plant_disease_model.pth'))\n",
        "model.eval()\n",
        "\n",
        "# Define class labels (replace with your own class names)\n",
        "class_labels = ['potato_early', 'potato_healthy', 'potato_late','tomato_early','tomato_healthy','tomato_late']\n",
        "\n",
        "# Load and preprocess the test image\n",
        "image_path = '/content/2.jpg'\n",
        "image = Image.open(image_path)\n",
        "image_tensor = transform(image).unsqueeze(0).to(device)\n",
        "\n",
        "# Make predictions\n",
        "with torch.no_grad():\n",
        "    output = model(image_tensor)\n",
        "    predicted_class = torch.argmax(output).item()\n",
        "\n",
        "predicted_label = class_labels[predicted_class]\n",
        "print(f'Predicted class: {predicted_label}')\n"
      ],
      "metadata": {
        "colab": {
          "base_uri": "https://localhost:8080/"
        },
        "id": "b9efjFK-WbAO",
        "outputId": "562fc70b-4d2d-4ce7-8c01-fccc68fbb4aa"
      },
      "execution_count": null,
      "outputs": [
        {
          "output_type": "stream",
          "name": "stdout",
          "text": [
            "Predicted class: tomato_late\n"
          ]
        }
      ]
    },
    {
      "cell_type": "markdown",
      "source": [
        "# 38 class"
      ],
      "metadata": {
        "id": "juI7_dcua3mN"
      }
    },
    {
      "cell_type": "code",
      "source": [
        "import os\n",
        "import torch\n",
        "import torch.nn as nn\n",
        "import torch.optim as optim\n",
        "import torchvision.transforms as transforms\n",
        "from torch.utils.data import DataLoader\n",
        "from torchvision.datasets import ImageFolder\n",
        "from torchvision.models import resnet18\n",
        "from torchsummary import summary\n",
        "import matplotlib.pyplot as plt\n",
        "\n",
        "# Set up GPU runtime in Google Colab\n",
        "device = torch.device('cuda' if torch.cuda.is_available() else 'cpu')\n",
        "\n",
        "# Define data transformations\n",
        "transform = transforms.Compose([\n",
        "    transforms.Resize((224, 224)),\n",
        "    transforms.ToTensor(),\n",
        "    transforms.Normalize(mean=[0.485, 0.456, 0.406], std=[0.229, 0.224, 0.225]),\n",
        "])\n",
        "\n",
        "# Load the dataset\n",
        "train_dataset = ImageFolder('/content/new plant diseases dataset(augmented)/New Plant Diseases Dataset(Augmented)/train', transform=transform)\n",
        "train_loader = DataLoader(train_dataset, batch_size=32, shuffle=True, num_workers=4)\n",
        "\n",
        "# Define the ResNet model\n",
        "model = resnet18(pretrained=True)\n",
        "num_classes = len(train_dataset.classes)\n",
        "model.fc = nn.Linear(model.fc.in_features, num_classes)\n",
        "model.to(device)\n",
        "\n",
        "# Define loss function and optimizer\n",
        "criterion = nn.CrossEntropyLoss()\n",
        "optimizer = optim.Adam(model.parameters(), lr=0.001)\n",
        "\n",
        "# Training loop\n",
        "num_epochs = 10\n",
        "for epoch in range(num_epochs):\n",
        "    model.train()\n",
        "    running_loss = 0.0\n",
        "    for images, labels in train_loader:\n",
        "        images, labels = images.to(device), labels.to(device)\n",
        "        optimizer.zero_grad()\n",
        "        outputs = model(images)\n",
        "        loss = criterion(outputs, labels)\n",
        "        loss.backward()\n",
        "        optimizer.step()\n",
        "        running_loss += loss.item()\n",
        "\n",
        "    print(f'Epoch [{epoch+1}/{num_epochs}], Loss: {running_loss:.4f}')\n",
        "\n",
        "print('Training finished.')\n",
        "\n",
        "# Save the trained model\n",
        "torch.save(model.state_dict(), 'plant_disease_model_2.pth')\n"
      ],
      "metadata": {
        "colab": {
          "base_uri": "https://localhost:8080/"
        },
        "id": "-wMejL9oa3KR",
        "outputId": "148d5a7a-2994-4840-fa36-fb0ebbedf7ea"
      },
      "execution_count": null,
      "outputs": [
        {
          "output_type": "stream",
          "name": "stderr",
          "text": [
            "/usr/local/lib/python3.10/dist-packages/torch/utils/data/dataloader.py:560: UserWarning: This DataLoader will create 4 worker processes in total. Our suggested max number of worker in current system is 2, which is smaller than what this DataLoader is going to create. Please be aware that excessive worker creation might get DataLoader running slow or even freeze, lower the worker number to avoid potential slowness/freeze if necessary.\n",
            "  warnings.warn(_create_warning_msg(\n",
            "/usr/local/lib/python3.10/dist-packages/torchvision/models/_utils.py:208: UserWarning: The parameter 'pretrained' is deprecated since 0.13 and may be removed in the future, please use 'weights' instead.\n",
            "  warnings.warn(\n",
            "/usr/local/lib/python3.10/dist-packages/torchvision/models/_utils.py:223: UserWarning: Arguments other than a weight enum or `None` for 'weights' are deprecated since 0.13 and may be removed in the future. The current behavior is equivalent to passing `weights=ResNet18_Weights.IMAGENET1K_V1`. You can also use `weights=ResNet18_Weights.DEFAULT` to get the most up-to-date weights.\n",
            "  warnings.warn(msg)\n",
            "Downloading: \"https://download.pytorch.org/models/resnet18-f37072fd.pth\" to /root/.cache/torch/hub/checkpoints/resnet18-f37072fd.pth\n",
            "100%|██████████| 44.7M/44.7M [00:00<00:00, 204MB/s]\n"
          ]
        },
        {
          "output_type": "stream",
          "name": "stdout",
          "text": [
            "Epoch [1/10], Loss: 561.8695\n",
            "Epoch [2/10], Loss: 232.9285\n",
            "Epoch [3/10], Loss: 183.3633\n",
            "Epoch [4/10], Loss: 136.5464\n",
            "Epoch [5/10], Loss: 108.6018\n",
            "Epoch [6/10], Loss: 95.2842\n",
            "Epoch [7/10], Loss: 84.2721\n",
            "Epoch [8/10], Loss: 76.1238\n",
            "Epoch [9/10], Loss: 65.5173\n",
            "Epoch [10/10], Loss: 63.6023\n",
            "Training finished.\n"
          ]
        }
      ]
    },
    {
      "cell_type": "code",
      "source": [
        "import os\n",
        "import torch\n",
        "import torch.nn as nn\n",
        "import torchvision.transforms as transforms\n",
        "from torchvision.models import resnet18\n",
        "from PIL import Image\n",
        "\n",
        "# Set up GPU runtime in Google Colab\n",
        "device = torch.device('cuda' if torch.cuda.is_available() else 'cpu')\n",
        "\n",
        "# Define data transformations for testing\n",
        "transform = transforms.Compose([\n",
        "    transforms.Resize((224, 224)),\n",
        "    transforms.ToTensor(),\n",
        "    transforms.Normalize(mean=[0.485, 0.456, 0.406], std=[0.229, 0.224, 0.225]),\n",
        "])\n",
        "\n",
        "# Load the saved model\n",
        "model = resnet18(pretrained=True)\n",
        "num_classes = 38  # Change this to the number of classes in your dataset\n",
        "model.fc = nn.Linear(model.fc.in_features, num_classes)\n",
        "model.to(device)\n",
        "model.load_state_dict(torch.load('/content/plant_disease_model_2.pth'))\n",
        "model.eval()\n",
        "\n",
        "# Define class labels (replace with your own class names)\n",
        "class_labels = class_names = [ \"Apple___Apple_scab\",\n",
        "    \"Apple___Black_rot\",\n",
        "    \"Apple___Cedar_apple_rust\",\n",
        "    \"Apple___healthy\",\n",
        "    \"Blueberry___healthy\",\n",
        "    \"Cherry_(including_sour)___healthy\",\n",
        "    \"Cherry_(including_sour)___Powdery_mildew\",\n",
        "    \"Corn_(maize)___Common_rust\",\n",
        "    \"Corn_(maize)___Cercospora_leaf_spot Gray_leaf_spot\",\n",
        "    \"Corn_(maize)___healthy\",\n",
        "    \"Corn_(maize)___Northern_Leaf_Blight\",\n",
        "    \"Grape___Black_rot\",\n",
        "    \"Grape___Esca_(Black_Measles)\",\n",
        "    \"Grape___healthy\",\n",
        "    \"Grape___Leaf_blight_(Isariopsis_Leaf_Spot)\",\n",
        "    \"Orange___Haunglongbing_(Citrus_greening)\",\n",
        "    \"Peach___Bacterial_spot\",\n",
        "    \"Peach___healthy\",\n",
        "    \"Pepper,_bell___Bacterial_spot\",\n",
        "    \"Pepper,_bell___healthy\",\n",
        "    \"Potato___Early_blight\",\n",
        "    \"Potato___Late_blight\",\n",
        "    \"Potato___healthy\",\n",
        "    \"Raspberry___healthy\",\n",
        "    \"Soybean___healthy\",\n",
        "    \"Squash___Powdery_mildew\",\n",
        "    \"Strawberry___healthy\",\n",
        "    \"Strawberry___Leaf_scorch\",\n",
        "    \"Tomato___Bacterial_spot\",\n",
        "    \"Tomato___Early_blight\",\n",
        "    \"Tomato___healthy\",\n",
        "    \"Tomato___Late_blight\",\n",
        "    \"Tomato___Leaf_Mold\",\n",
        "    \"Tomato___Septoria_leaf_spot\",\n",
        "    \"Tomato___Spider_mites Two-spotted_spider_mite\",\n",
        "    \"Tomato___Target_Spot\",\n",
        "    \"Tomato___Tomato_Yellow_Leaf_Curl_Virus\",\n",
        "    \"Tomato___Tomato_mosaic_virus\"]\n",
        "\n",
        "# Load and preprocess the test image\n",
        "image_path = '/content/test/test/AppleScab1.JPG'\n",
        "image = Image.open(image_path)\n",
        "image_tensor = transform(image).unsqueeze(0).to(device)\n",
        "\n",
        "# Make predictions\n",
        "with torch.no_grad():\n",
        "    output = model(image_tensor)\n",
        "    predicted_class = torch.argmax(output).item()\n",
        "\n",
        "predicted_label = class_labels[predicted_class]\n",
        "print(f'Predicted class: {predicted_label}')\n"
      ],
      "metadata": {
        "id": "k3g5KERkbg9u",
        "colab": {
          "base_uri": "https://localhost:8080/"
        },
        "outputId": "e975bc19-2f17-47c2-a940-a7d8ed4ed40d"
      },
      "execution_count": null,
      "outputs": [
        {
          "output_type": "stream",
          "name": "stderr",
          "text": [
            "/usr/local/lib/python3.10/dist-packages/torchvision/models/_utils.py:208: UserWarning: The parameter 'pretrained' is deprecated since 0.13 and may be removed in the future, please use 'weights' instead.\n",
            "  warnings.warn(\n",
            "/usr/local/lib/python3.10/dist-packages/torchvision/models/_utils.py:223: UserWarning: Arguments other than a weight enum or `None` for 'weights' are deprecated since 0.13 and may be removed in the future. The current behavior is equivalent to passing `weights=ResNet18_Weights.IMAGENET1K_V1`. You can also use `weights=ResNet18_Weights.DEFAULT` to get the most up-to-date weights.\n",
            "  warnings.warn(msg)\n",
            "Downloading: \"https://download.pytorch.org/models/resnet18-f37072fd.pth\" to /root/.cache/torch/hub/checkpoints/resnet18-f37072fd.pth\n",
            "100%|██████████| 44.7M/44.7M [00:00<00:00, 278MB/s]\n"
          ]
        },
        {
          "output_type": "stream",
          "name": "stdout",
          "text": [
            "Predicted class: Apple___Apple_scab\n"
          ]
        }
      ]
    },
    {
      "cell_type": "code",
      "source": [
        "import os\n",
        "import torch\n",
        "import torch.nn as nn\n",
        "import torchvision.transforms as transforms\n",
        "from torchvision.models import resnet18\n",
        "from PIL import Image\n",
        "\n",
        "# Set up GPU runtime in Google Colab\n",
        "device = torch.device('cuda' if torch.cuda.is_available() else 'cpu')\n",
        "\n",
        "# Define data transformations for testing\n",
        "transform = transforms.Compose([\n",
        "    transforms.Resize((224, 224)),\n",
        "    transforms.ToTensor(),\n",
        "    transforms.Normalize(mean=[0.485, 0.456, 0.406], std=[0.229, 0.224, 0.225]),\n",
        "])\n",
        "\n",
        "# Load the saved model\n",
        "model = resnet18(pretrained=True)\n",
        "num_classes = 38  # Change this to the number of classes in your dataset\n",
        "model.fc = nn.Linear(model.fc.in_features, num_classes)\n",
        "model.to(device)\n",
        "model.load_state_dict(torch.load('/content/plant_disease_model_2.pth'))\n",
        "model.eval()\n",
        "\n",
        "\n",
        "\n",
        "# Load and preprocess the input image\n",
        "image_path = '/content/test.jpg'\n",
        "image = Image.open(image_path)\n",
        "input_tensor = transform(image)\n",
        "input_batch = input_tensor.unsqueeze(0).to(device)   # Add batch dimension\n",
        "\n",
        "# Make a prediction\n",
        "with torch.no_grad():\n",
        "    output = model(input_batch)\n",
        "\n",
        "# Assuming output is logits, you can apply softmax to get probabilities\n",
        "probabilities = torch.softmax(output, dim=1)\n",
        "predicted_class = torch.argmax(probabilities, dim=1)\n",
        "# Assuming you have a list or dictionary that maps class indices to class names\n",
        "class_names = [ \"Apple___Apple_scab\",\n",
        "    \"Apple___Black_rot\",\n",
        "    \"Apple___Cedar_apple_rust\",\n",
        "    \"Apple___healthy\",\n",
        "    \"Blueberry___healthy\",\n",
        "    \"Cherry_(including_sour)___healthy\",\n",
        "    \"Cherry_(including_sour)___Powdery_mildew\",\n",
        "    \"Corn_(maize)___Common_rust\",\n",
        "    \"Corn_(maize)___Cercospora_leaf_spot Gray_leaf_spot\",\n",
        "    \"Corn_(maize)___healthy\",\n",
        "    \"Corn_(maize)___Northern_Leaf_Blight\",\n",
        "    \"Grape___Black_rot\",\n",
        "    \"Grape___Esca_(Black_Measles)\",\n",
        "    \"Grape___healthy\",\n",
        "    \"Grape___Leaf_blight_(Isariopsis_Leaf_Spot)\",\n",
        "    \"Orange___Haunglongbing_(Citrus_greening)\",\n",
        "    \"Peach___Bacterial_spot\",\n",
        "    \"Peach___healthy\",\n",
        "    \"Pepper,_bell___Bacterial_spot\",\n",
        "    \"Pepper,_bell___healthy\",\n",
        "    \"Potato___Early_blight\",\n",
        "    \"Potato___Late_blight\",\n",
        "    \"Potato___healthy\",\n",
        "    \"Raspberry___healthy\",\n",
        "    \"Soybean___healthy\",\n",
        "    \"Squash___Powdery_mildew\",\n",
        "    \"Strawberry___healthy\",\n",
        "    \"Strawberry___Leaf_scorch\",\n",
        "    \"Tomato___Bacterial_spot\",\n",
        "    \"Tomato___Early_blight\",\n",
        "    \"Tomato___healthy\",\n",
        "    \"Tomato___Late_blight\",\n",
        "    \"Tomato___Leaf_Mold\",\n",
        "    \"Tomato___Septoria_leaf_spot\",\n",
        "    \"Tomato___Spider_mites Two-spotted_spider_mite\",\n",
        "    \"Tomato___Target_Spot\",\n",
        "    \"Tomato___Tomato_Yellow_Leaf_Curl_Virus\",\n",
        "    \"Tomato___Tomato_mosaic_virus\"]\n",
        "\n",
        "# Get the predicted class index\n",
        "predicted_class_index = torch.argmax(probabilities, dim=1).item()\n",
        "\n",
        "# Get the class name using the class index\n",
        "predicted_class_name = class_names[predicted_class_index]\n",
        "\n",
        "# Print the result\n",
        "print(\"Predicted class:\", predicted_class_name)\n",
        "print(\"Probability:\", probabilities[0, predicted_class_index].item())\n"
      ],
      "metadata": {
        "id": "1N8pBoF2s7si"
      },
      "execution_count": null,
      "outputs": []
    },
    {
      "cell_type": "code",
      "source": [
        "from torchvision.datasets import ImageFolder\n",
        "test_dir = \"/content/test\"\n",
        "test = ImageFolder(test_dir, transform=transforms.ToTensor())"
      ],
      "metadata": {
        "id": "gUCcfvo0CxDL"
      },
      "execution_count": null,
      "outputs": []
    },
    {
      "cell_type": "code",
      "source": [
        "test_images = sorted(os.listdir(test_dir + '/test'))"
      ],
      "metadata": {
        "id": "VOQihpJjDmrV"
      },
      "execution_count": null,
      "outputs": []
    },
    {
      "cell_type": "code",
      "source": [
        "def predict_image(image_path):\n",
        "    image = Image.open(image_path)\n",
        "    input_tensor = transform(image).unsqueeze(0).to(device)\n",
        "\n",
        "    with torch.no_grad():\n",
        "        output = model(input_tensor)\n",
        "\n",
        "    probabilities = torch.softmax(output, dim=1)\n",
        "    predicted_class_index = torch.argmax(probabilities, dim=1).item()\n",
        "    predicted_class_name = class_names[predicted_class_index]\n",
        "\n",
        "\n",
        "    return predicted_class_name"
      ],
      "metadata": {
        "id": "AUq2v36NDtDg"
      },
      "execution_count": null,
      "outputs": []
    },
    {
      "cell_type": "code",
      "source": [
        "img='/content/new plant diseases dataset(augmented)/New Plant Diseases Dataset(Augmented)/train/Tomato___Early_blight/07502bbb-1733-4d49-a3dc-557b1d4391da___RS_Erly.B 7516.JPG'\n",
        "predicted_label = predict_image(img)\n",
        "print(f\" Predicted: {predicted_label}\")"
      ],
      "metadata": {
        "colab": {
          "base_uri": "https://localhost:8080/"
        },
        "id": "sRlkQzUMH5X7",
        "outputId": "d19a9ab0-50ae-4ba4-f438-b8c39f526259"
      },
      "execution_count": null,
      "outputs": [
        {
          "output_type": "stream",
          "name": "stdout",
          "text": [
            " Predicted: Tomato___Septoria_leaf_spot\n"
          ]
        }
      ]
    },
    {
      "cell_type": "code",
      "source": [
        "import os\n",
        "\n",
        "folder_path = \"/content/test/test/\"  # Replace with your folder path\n",
        "\n",
        "# List all files in the folder\n",
        "file_names = os.listdir(folder_path)\n",
        "\n",
        "# Filter out only image files (you might need to adjust the condition)\n",
        "image_files = [file for file in file_names if file.endswith(\".JPG\") or file.endswith(\".png\")]\n",
        "\n",
        "# Loop through the image files\n",
        "for image_file in image_files:\n",
        "    image_path = os.path.join(folder_path, image_file)\n",
        "    predicted_label = predict_image(image_path)  # Call your prediction function\n",
        "    print(f\"Image: {image_file}, Predicted: {predicted_label}\")\n"
      ],
      "metadata": {
        "colab": {
          "base_uri": "https://localhost:8080/"
        },
        "id": "lqYUFJSUC0Eb",
        "outputId": "7695f53b-8e65-45a7-ae50-aa45fc052b60"
      },
      "execution_count": null,
      "outputs": [
        {
          "output_type": "stream",
          "name": "stdout",
          "text": [
            "Image: TomatoYellowCurlVirus2.JPG, Predicted: Tomato___Target_Spot\n",
            "Image: TomatoEarlyBlight5.JPG, Predicted: Tomato___Early_blight\n",
            "Image: TomatoEarlyBlight1.JPG, Predicted: Tomato___Early_blight\n",
            "Image: AppleCedarRust2.JPG, Predicted: Apple___Cedar_apple_rust\n",
            "Image: PotatoEarlyBlight2.JPG, Predicted: Potato___Early_blight\n",
            "Image: PotatoHealthy2.JPG, Predicted: Potato___healthy\n",
            "Image: AppleScab2.JPG, Predicted: Apple___Apple_scab\n",
            "Image: TomatoEarlyBlight2.JPG, Predicted: Tomato___Early_blight\n",
            "Image: TomatoYellowCurlVirus4.JPG, Predicted: Tomato___Target_Spot\n",
            "Image: PotatoEarlyBlight1.JPG, Predicted: Potato___Early_blight\n",
            "Image: AppleScab1.JPG, Predicted: Apple___Apple_scab\n",
            "Image: PotatoEarlyBlight5.JPG, Predicted: Potato___Early_blight\n",
            "Image: TomatoHealthy3.JPG, Predicted: Tomato___Tomato_mosaic_virus\n",
            "Image: TomatoHealthy2.JPG, Predicted: Tomato___Tomato_mosaic_virus\n",
            "Image: AppleCedarRust4.JPG, Predicted: Apple___Cedar_apple_rust\n",
            "Image: PotatoEarlyBlight3.JPG, Predicted: Potato___Early_blight\n",
            "Image: TomatoEarlyBlight3.JPG, Predicted: Tomato___Early_blight\n",
            "Image: CornCommonRust1.JPG, Predicted: Corn_(maize)___Cercospora_leaf_spot Gray_leaf_spot\n",
            "Image: PotatoEarlyBlight4.JPG, Predicted: Potato___Early_blight\n",
            "Image: TomatoYellowCurlVirus5.JPG, Predicted: Tomato___Target_Spot\n",
            "Image: TomatoEarlyBlight6.JPG, Predicted: Tomato___Early_blight\n",
            "Image: TomatoYellowCurlVirus1.JPG, Predicted: Tomato___Target_Spot\n",
            "Image: AppleCedarRust1.JPG, Predicted: Apple___Cedar_apple_rust\n",
            "Image: TomatoYellowCurlVirus3.JPG, Predicted: Tomato___Target_Spot\n",
            "Image: TomatoYellowCurlVirus6.JPG, Predicted: Tomato___Target_Spot\n",
            "Image: TomatoHealthy1.JPG, Predicted: Tomato___Tomato_mosaic_virus\n",
            "Image: CornCommonRust2.JPG, Predicted: Corn_(maize)___Cercospora_leaf_spot Gray_leaf_spot\n",
            "Image: CornCommonRust3.JPG, Predicted: Corn_(maize)___Cercospora_leaf_spot Gray_leaf_spot\n",
            "Image: AppleScab3.JPG, Predicted: Apple___Apple_scab\n",
            "Image: TomatoEarlyBlight4.JPG, Predicted: Tomato___Early_blight\n",
            "Image: AppleCedarRust3.JPG, Predicted: Apple___Cedar_apple_rust\n",
            "Image: PotatoHealthy1.JPG, Predicted: Potato___healthy\n",
            "Image: TomatoHealthy4.JPG, Predicted: Tomato___Tomato_mosaic_virus\n"
          ]
        }
      ]
    }
  ]
}